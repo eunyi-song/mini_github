{
 "cells": [
  {
   "cell_type": "markdown",
   "metadata": {},
   "source": [
    "# For Base Rate"
   ]
  },
  {
   "cell_type": "code",
   "execution_count": 1,
   "metadata": {},
   "outputs": [],
   "source": [
    "# 노가다 10년안에바뀐횟수 <20회"
   ]
  },
  {
   "cell_type": "markdown",
   "metadata": {},
   "source": [
    "# For Call Rate"
   ]
  },
  {
   "cell_type": "code",
   "execution_count": null,
   "metadata": {},
   "outputs": [],
   "source": [
    "import requests\n",
    "from bs4 import BeautifulSoup\n",
    "import re\n",
    "f = open(\"call.csv\", \"w\")\n",
    "f.write(\"날짜,콜금리,\\n\")\n",
    "for i in range(1,400): \n",
    "    url = 'https://finance.naver.com/marketindex/interestDailyQuote.nhn?marketindexCd=IRR_CALL&page='+str(i)\n",
    "    response = requests.get(url)\n",
    "    soup = BeautifulSoup(response.text, 'html.parser')\n",
    "    list_call = soup.select('div[class=\"section_exchange2\"] tbody > tr')\n",
    "    for call in list_call:\n",
    "        date=str(call.select('td')[0].text.strip())\n",
    "        call_index=str(call.select('td')[1].text.strip())\n",
    "        f.write(str(date)+\",\"+str(call_index)+'\\n')\n",
    "f.close()"
   ]
  },
  {
   "cell_type": "markdown",
   "metadata": {},
   "source": [
    "# For Bond Analyst Reports"
   ]
  },
  {
   "cell_type": "code",
   "execution_count": null,
   "metadata": {},
   "outputs": [],
   "source": [
    "# option 1\n",
    "import requests\n",
    "from bs4 import BeautifulSoup\n",
    "import datetime\n",
    "from datetime import datetime\n",
    "!pip install openpyxl\n",
    "import openpyxl\n",
    "wb = openpyxl.Workbook()\n",
    "sheet = wb.active\n",
    "sheet.append([\"날짜\",\"제목\",\"본문\"])\n",
    "for i in range(1,101): # 마지막 페이지 입력하기 101\n",
    "    URL = 'https://finance.naver.com/research/debenture_list.nhn?keyword=&brokerCode=&searchType=writeDate&writeFromDate=2011-01-01&writeToDate=2021-12-31&x=0&y=0&page='+str(i)\n",
    "    response = requests.get(URL)\n",
    "    soup = BeautifulSoup(response.text, \"html.parser\")\n",
    "    list_minutes = soup.select('div[id=\"contentarea_left\"] div[class=\"box_type_m\"] tr')\n",
    "    for minutes in list_minutes:\n",
    "        try:\n",
    "            title=minutes.select('a')[0].text\n",
    "            sub_link = minutes.select('a')[1].attrs['href']\n",
    "            date = datetime.strptime('20'+ minutes.select('.date')[0].text, \"%Y.%m.%d\")\n",
    "            if str(sub_link).endswith('.pdf'):\n",
    "                print(date.strftime('%Y.%m.%d'))\n",
    "                print(title)\n",
    "                print(sub_link)\n",
    "                file_res = requests.get(sub_link)\n",
    "                sheet.append([ds.strftime('%Y.%m.%d'),title,sub_link])\n",
    "            else:\n",
    "                pass\n",
    "        except:\n",
    "            pass\n",
    "wb.save(\"bond_report.csv\")"
   ]
  },
  {
   "cell_type": "code",
   "execution_count": null,
   "metadata": {},
   "outputs": [],
   "source": [
    "# option 2 - x download pdf/ getting urls only\n",
    "import requests\n",
    "from bs4 import BeautifulSoup\n",
    "from datetime import datetime\n",
    "import csv\n",
    "f = open('bond_report.csv','w',newline='')\n",
    "wr = csv.writer(f)\n",
    "for i in range(1,102): # 마지막 페이지+1 입력\n",
    "    URL = 'https://finance.naver.com/research/debenture_list.nhn?keyword=&brokerCode=&searchType=writeDate&writeFromDate=2011-01-01&writeToDate=2021-12-31&x=0&y=0&page='+str(i)\n",
    "    response = requests.get(URL)\n",
    "    soup = BeautifulSoup(response.text, \"html.parser\")\n",
    "    list_minutes = soup.select('div[id=\"contentarea_left\"] div[class=\"box_type_m\"] tr')\n",
    "    for minutes in list_minutes:\n",
    "        try:\n",
    "            title=minutes.select('a')[0].text\n",
    "            sub_link = minutes.select('a')[1].attrs['href']\n",
    "            date = datetime.strptime('20'+ minutes.select('.date')[0].text, \"%Y.%m.%d\")\n",
    "            date_convert = date.strftime('%Y.%m.%d')\n",
    "            print(date_convert)\n",
    "            print(title)\n",
    "            print(sub_link)\n",
    "            wr.writerow([date_convert,title,sub_link])\n",
    "        except:\n",
    "            pass\n",
    "f.close()"
   ]
  },
  {
   "cell_type": "code",
   "execution_count": null,
   "metadata": {},
   "outputs": [],
   "source": [
    "#링크안 pdf text 긁어오기\n",
    "import os\n",
    "from tika import parser\n",
    "import pandas as pd\n",
    "import csv\n",
    "bond_report = pd.read_csv(\"bond_report.csv\", header=0)\n",
    "bond_report.columns = ['date','title','url']\n",
    "content = []\n",
    "for url in bond_report['url']:\n",
    "    try:\n",
    "        content.append(parser.from_file(url)['content'].replace('\\n', ''))\n",
    "    except:\n",
    "        content.append(\"NA\")\n",
    "        pass\n",
    "bond_report['content'] = content\n",
    "bond_report \n",
    "bond_report.to_csv(r'/Users/soojinkim/kdigital/mini_project_1/bond_report_df.csv')"
   ]
  },
  {
   "cell_type": "markdown",
   "metadata": {},
   "source": [
    "# For Monetary Policy Board Minutes"
   ]
  },
  {
   "cell_type": "markdown",
   "metadata": {},
   "source": [
    "## To Download PDF files:"
   ]
  },
  {
   "cell_type": "code",
   "execution_count": null,
   "metadata": {},
   "outputs": [],
   "source": [
    "#금통위 의사록 다운로드 최종\n",
    "import requests\n",
    "from bs4 import BeautifulSoup\n",
    "import datetime\n",
    "from datetime import datetime\n",
    "import re\n",
    "for i in range(1,21): # 마지막 페이지 입력하기\n",
    "    URL = 'https://www.bok.or.kr/portal/bbs/B0000245/list.do?menuNo=200761&pageIndex='+str(i)\n",
    "    response = requests.get(URL)\n",
    "    soup = BeautifulSoup(response.text, \"html.parser\")\n",
    "    list_minutes = soup.select('main[id=\"content\"] div[class=\"bdLine type2\"] > ul > li')\n",
    "    for minutes in list_minutes:\n",
    "        title = minutes.select('a')[0].text.strip()\n",
    "        pdf_check = minutes.select('a')[2].text.strip()\n",
    "        pdf_check2 = minutes.select('a')[4].text.strip()\n",
    "        sub_link = minutes.select('a')[2].attrs['href']\n",
    "        sub_link2 = minutes.select('a')[4].attrs['href']\n",
    "        if re.findall(r'(?<=차\\)).*',title)[0][-2] != '.':  # (1111.11.11)형식이면\n",
    "            pdf_date = datetime.strptime(re.findall(r'(?<=차\\)).*',title)[0][1:-1],\"%Y.%m.%d\")\n",
    "            pdf_date2 = pdf_date.strftime('%Y.%m.%d')\n",
    "        else:\n",
    "            pdf_date = datetime.strptime(re.findall(r'(?<=차\\)).*',title)[0][1:-2],\"%Y.%m.%d\")\n",
    "            pdf_date2 = pdf_date.strftime('%Y.%m.%d')\n",
    "        if 'pdf' in pdf_check:\n",
    "            link = 'https://www.bok.or.kr' + sub_link\n",
    "        else:\n",
    "            link = 'https://www.bok.or.kr' + sub_link2\n",
    "        file_res = requests.get(link)\n",
    "        with open(f\"{pdf_date2}.pdf\", 'wb') as f:\n",
    "            f.write(file_res.content)"
   ]
  },
  {
   "cell_type": "markdown",
   "metadata": {},
   "source": [
    "## To Extract Content from PDF Files:"
   ]
  },
  {
   "cell_type": "code",
   "execution_count": null,
   "metadata": {},
   "outputs": [],
   "source": [
    "from tika import parser\n",
    "from datetime import datetime, timedelta, date\n",
    "f = open('mp_report.csv','w',newline='')\n",
    "wr = csv.writer(f)\n",
    "start_date = date(2011,1,1)\n",
    "end_date = date(2020,12,31)\n",
    "ds = start_date\n",
    "while True:\n",
    "    try:\n",
    "        filename = f'./금융통화위원회 의사록/{ds.strftime(\"%Y.%m.%d\")}.pdf'\n",
    "        parsed = parser.from_file(filename, requestOptions={'timeout':120})\n",
    "#        print(ds)\n",
    "#        print(parsed['content'].strip())\n",
    "        wr.writerow([ds,parsed['content'].strip()])\n",
    "    except:\n",
    "        pass\n",
    "    ds += timedelta(1)\n",
    "    if ds == end_date:\n",
    "        break\n",
    "f.close()\n",
    "pd.read_csv('mp_report.csv',header=None)"
   ]
  },
  {
   "cell_type": "markdown",
   "metadata": {},
   "source": [
    "# For Naver News Articles"
   ]
  },
  {
   "cell_type": "code",
   "execution_count": null,
   "metadata": {},
   "outputs": [],
   "source": [
    "import openpyxl\n",
    "wb = openpyxl.Workbook()\n",
    "sheet = wb.active\n",
    "sheet.append([\"날짜\",\"기사명\",\"본문\"])\n",
    "#은이님 수정\n",
    "from bs4 import BeautifulSoup\n",
    "import requests\n",
    "import csv\n",
    "import re\n",
    "import datetime\n",
    "start_date = datetime.datetime(2013,1,1)\n",
    "end_date = datetime.datetime(2014,1,1)\n",
    "total_days = int((end_date-start_date).days)\n",
    "ds=start_date #시작일자\n",
    "errorcount=0\n",
    "for day in range(1,total_days+1):\n",
    "    page = 1\n",
    "    while True:\n",
    "        headers = {'user-agent':'Mozilla/5.0','cookie':'news_office_checked=1001,1018,2227'}\n",
    "        url = f\"https://search.naver.com/search.naver?&where=news&query=%EA%B8%88%EB%A6%AC&sm=tab_pge&sort=0&photo=0&field=0&reporter_article=&pd=3&ds={ds.strftime('%Y.%m.%d')}&de={ds.strftime('%Y.%m.%d')}&docid=&nso=so:r,p:from{ds.strftime('%Y%m%d')}to{ds.strftime('%Y%m%d')},a:all&mynews=1&start={page}&refresh_start=0\"\n",
    "        response = requests.get(url,headers=headers)\n",
    "        soup = BeautifulSoup(response.text,\"html.parser\")        \n",
    "        li_list = soup.select(\".list_news > li\")\n",
    "        for li in li_list:\n",
    "            try:\n",
    "#                print(ds.strftime('%Y.%m.%d'))\n",
    "                if li.select('div .news_area a[href]')[0]['href'] == 'http://www.einfomax.com':\n",
    "                    title = li.select('div .news_area a[title]')[0].text\n",
    "                    article_url = li.select('div .news_area a[title]')[0]['href']\n",
    "                    article_response = requests.get(article_url, headers=headers)\n",
    "                    article_soup = BeautifulSoup(article_response.text,\"html.parser\")\n",
    "                    article = article_soup.find(id = 'article-view-content-div')\n",
    "                    body = re.sub(r'[\\n\\t]','',article.text.strip())\n",
    "                else:\n",
    "                    title = li.select('div .news_area a[title]')[0].text\n",
    "                    article_url = li.select('div .news_area a[href]')[1]['href']\n",
    "                    article_response = requests.get(article_url, headers=headers)\n",
    "                    article_soup = BeautifulSoup(article_response.text,\"html.parser\")\n",
    "                    article = article_soup.find(id = 'articleBodyContents')\n",
    "                    body = article.text.strip()\n",
    "#                 print(title)\n",
    "#                 print(body)\n",
    "#                 print(\"\") \n",
    "                sheet.append([ds.strftime('%Y.%m.%d'),title,body])\n",
    "            except:\n",
    "                errorcount+=1\n",
    "        button=soup.select('.sc_page > a')[1]['aria-disabled']\n",
    "        page+=10\n",
    "        if button == 'true':\n",
    "            ds+=datetime.timedelta(1)\n",
    "            break\n",
    "wb.save(\"2020.csv\")"
   ]
  }
 ],
 "metadata": {
  "kernelspec": {
   "display_name": "study",
   "language": "python",
   "name": "study"
  },
  "language_info": {
   "codemirror_mode": {
    "name": "ipython",
    "version": 3
   },
   "file_extension": ".py",
   "mimetype": "text/x-python",
   "name": "python",
   "nbconvert_exporter": "python",
   "pygments_lexer": "ipython3",
   "version": "3.6.12"
  }
 },
 "nbformat": 4,
 "nbformat_minor": 4
}
