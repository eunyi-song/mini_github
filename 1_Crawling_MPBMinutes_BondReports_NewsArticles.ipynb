{
 "cells": [
  {
   "cell_type": "markdown",
   "metadata": {},
   "source": [
    "# I. 금통위 의사록"
   ]
  },
  {
   "cell_type": "markdown",
   "metadata": {},
   "source": [
    "## 1. PDF 다운로드"
   ]
  },
  {
   "cell_type": "code",
   "execution_count": null,
   "metadata": {},
   "outputs": [],
   "source": [
    "import requests\n",
    "from bs4 import BeautifulSoup\n",
    "import datetime\n",
    "from datetime import datetime\n",
    "import re\n",
    "\n",
    "for i in range(1,21): # 마지막 페이지 입력하기\n",
    "    URL = 'https://www.bok.or.kr/portal/bbs/B0000245/list.do?menuNo=200761&pageIndex='+str(i)\n",
    "    response = requests.get(URL)\n",
    "    soup = BeautifulSoup(response.text, \"html.parser\")\n",
    "    list_minutes = soup.select('main[id=\"content\"] div[class=\"bdLine type2\"] > ul > li')\n",
    "    for minutes in list_minutes:\n",
    "        title = minutes.select('a')[0].text.strip()\n",
    "        pdf_check = minutes.select('a')[2].text.strip()\n",
    "        pdf_check2 = minutes.select('a')[4].text.strip()\n",
    "        sub_link = minutes.select('a')[2].attrs['href']\n",
    "        sub_link2 = minutes.select('a')[4].attrs['href']\n",
    "        if re.findall(r'(?<=차\\)).*',title)[0][-2] != '.':  # (1111.11.11)형식이면\n",
    "            pdf_date = datetime.strptime(re.findall(r'(?<=차\\)).*',title)[0][1:-1],\"%Y.%m.%d\")\n",
    "            pdf_date2 = pdf_date.strftime('%Y.%m.%d')\n",
    "        else:\n",
    "            pdf_date = datetime.strptime(re.findall(r'(?<=차\\)).*',title)[0][1:-2],\"%Y.%m.%d\")\n",
    "            pdf_date2 = pdf_date.strftime('%Y.%m.%d')\n",
    "        if 'pdf' in pdf_check:\n",
    "            link = 'https://www.bok.or.kr' + sub_link\n",
    "        else:\n",
    "            link = 'https://www.bok.or.kr' + sub_link2\n",
    "        file_res = requests.get(link)\n",
    "        with open(f\"{pdf_date2}.pdf\", 'wb') as f:\n",
    "            f.write(file_res.content)\n",
    "\n",
    "f.close()"
   ]
  },
  {
   "cell_type": "markdown",
   "metadata": {},
   "source": [
    "##      2. PDF파일에서 전체 텍스트 추출"
   ]
  },
  {
   "cell_type": "code",
   "execution_count": null,
   "metadata": {},
   "outputs": [],
   "source": [
    "from tika import parser\n",
    "from datetime import datetime, timedelta, date\n",
    "f = open('mp_report.csv','w',newline='')\n",
    "wr = csv.writer(f)\n",
    "start_date = date(2011,1,1)\n",
    "end_date = date(2020,12,31)\n",
    "ds = start_date\n",
    "while True:\n",
    "    try:\n",
    "        filename = f'./금융통화위원회 의사록/{ds.strftime(\"%Y.%m.%d\")}.pdf'\n",
    "        parsed = parser.from_file(filename, requestOptions={'timeout':120})\n",
    "#        print(ds)\n",
    "#        print(parsed['content'].strip())\n",
    "        wr.writerow([ds,parsed['content'].strip()])\n",
    "    except:\n",
    "        pass\n",
    "    ds += timedelta(1)\n",
    "    if ds == end_date:\n",
    "        break\n",
    "f.close()\n",
    "pd.read_csv('mp_report.csv',header=None)"
   ]
  },
  {
   "cell_type": "markdown",
   "metadata": {},
   "source": [
    "## 3. 추출한 텍스트 정제하기"
   ]
  },
  {
   "cell_type": "markdown",
   "metadata": {},
   "source": [
    "### a) 불필요 str 제거해주는 함수 및 의사록 섹션 2&3 분리하는 함수 불러오기"
   ]
  },
  {
   "cell_type": "code",
   "execution_count": null,
   "metadata": {},
   "outputs": [],
   "source": [
    "def tidy_sentences(section):\n",
    "    sentence_enders = re.compile(r'((?<=[함음됨임봄짐움])(\\s*\\n|\\.|;)|(?<=다)\\.)\\s*')\n",
    "    splits = list((m.start(), m.end()) for m in re.finditer(sentence_enders, section))\n",
    "    starts = [0] + [i[1] for i in splits]\n",
    "    ends = [i[0] for i in splits]\n",
    "    sentences = [section[start:end] for start, end in zip(starts[:-1], ends)]\n",
    "    for i, s in enumerate(sentences):\n",
    "        sentences[i] = (s.replace('\\n', ' ').replace(' ', ' ')) + '.'\n",
    "\n",
    "    text = '\\n'.join(sentences) if len(sentences) > 0 else ''\n",
    "    return sentences, text"
   ]
  },
  {
   "cell_type": "code",
   "execution_count": null,
   "metadata": {},
   "outputs": [],
   "source": [
    "import re \n",
    "\n",
    "def preprocess_minutes(minutes):\n",
    "\n",
    "    pos = re.search('(.?국내외\\s?경제\\s?동향.?과 관련하여,?|\\(가\\).+경제전망.*|\\(가\\) 국내외 경제동향 및 평가)\\n?\\s*일부 위원은', minutes, re.MULTILINE)\n",
    "    s1 = pos.start() if pos else -1\n",
    "    pos = re.search('(.?외환.?국제금융\\s?동향.?과 관련하여.*|\\(나\\) 외환.국제금융\\s?(및 금융시장)?\\s?동향)\\n?\\s*(일부 위원은|대부분의 위원들은)', minutes,re.MULTILINE)\n",
    "    s2 = pos.start() if pos else -1\n",
    "    pos = re.search('(.?금융시장\\s?동향.?과 관련하여,?|\\(다\\) 금융시장\\s?동향)\\n?\\s*일부 위원은', minutes, re.MULTILINE)\n",
    "    s3 = pos.start() if pos else -1\n",
    "    pos = re.search('((\\((다|라)\\) )?.?통화정책\\s?방향.?에 관한 토론,?|이상과 같은 의견\\s?교환을 바탕으로.*통화정책\\s?방향.*에.*토론.*)\\n?', minutes,re.MULTILINE)\n",
    "    s4 = pos.start() if pos else -1\n",
    "    pos = re.search('(\\(4\\) 정부측 열석자 발언.*)\\n?', minutes, re.MULTILINE)\n",
    "    s5 = pos.start() if pos else -1\n",
    "    pos = re.search('(\\(.*\\) 한국은행 기준금리 결정에 관한 위원별 의견\\s?개진|이상과 같은 토론에 이어 .* 관한 위원별 의견개진이 있었음.*)\\n?', minutes,re.MULTILINE)\n",
    "    s6 = pos.start() if pos else -1\n",
    "    positer = re.finditer('(\\(\\s?.*\\s?\\) ()(심의결과|토의결론))\\n?', minutes, re.MULTILINE)\n",
    "    s7 = [pos.start() for pos in positer if pos.start() > s6]\n",
    "    s7 = s7[0] if s7 else -1\n",
    "\n",
    "    # 국내외 경제동향\n",
    "    bos = s1\n",
    "    eos = s2\n",
    "    section = minutes[bos:eos] if bos >= 0 or eos >= 0 else ''\n",
    "    pos = re.search('(일부|대부분의) 위원들?은', section, re.MULTILINE)\n",
    "    bos = pos.start() if pos else -1\n",
    "    section = section[bos:] if bos >= 0 else section\n",
    "    section1, section1_txt = tidy_sentences(section)\n",
    "\n",
    "    # 외환․국제금융 동향\n",
    "    bos = s2\n",
    "    eos = s3 if s3 >= 0 else s4\n",
    "    section = minutes[bos:eos] if bos >= 0 or eos >= 0 else ''\n",
    "    pos = re.search('(일부|대부분의) 위원들?은', section, re.MULTILINE)\n",
    "    bos = pos.start() if pos else -1\n",
    "    section = section[bos:] if bos >= 0 else section\n",
    "    section2, section2_txt = tidy_sentences(section)\n",
    "    #print(section)\n",
    "\n",
    "    # 금융시장 동향\n",
    "    bos = s3\n",
    "    eos = s4\n",
    "    section = minutes[bos:eos] if bos >= 0 or eos >= 0 else ''\n",
    "    pos = re.search('(일부|대부분의) 위원들?은', section, re.MULTILINE)\n",
    "    bos = pos.start() if pos else -1\n",
    "    section = section[bos:] if bos >= 0 else section\n",
    "    section3, section3_txt = tidy_sentences(section)\n",
    "\n",
    "    # 통화정책방향\n",
    "    bos = s4\n",
    "    eos = s5 if s5 >= 0 else s6 if s6 >= 0 else s7\n",
    "    section = minutes[bos:eos] if bos >= 0 or eos >= 0 else ''\n",
    "    pos = re.search('(일부|대부분의) 위원들?은', section, re.MULTILINE)\n",
    "    bos = pos.start() if pos else -1\n",
    "    section = section[bos:] if bos >= 0 else section\n",
    "    section4, section4_txt = tidy_sentences(section)\n",
    "\n",
    "    # 위원별 의견 개진\n",
    "    bos = s6\n",
    "    eos = s7\n",
    "    section = minutes[bos:eos] if bos >= 0 or eos >= 0 else ''\n",
    "    pos = re.search('(일부|대부분의) 위원들?은', section, re.MULTILINE)\n",
    "    bos = pos.start() if pos else -1\n",
    "    section = section[bos:] if bos >= 0 else section\n",
    "    section5, section5_txt = tidy_sentences(section)\n",
    "\n",
    "    # 정부측 열석자 발언\n",
    "    bos = s5\n",
    "    eos = s6\n",
    "    section = minutes[bos:eos] if bos >= 0 or eos >= 0 else ''\n",
    "    pos = re.search('정부측 열석자 발언', section, re.MULTILINE)\n",
    "    bos = pos.end() + 1 if pos else -1\n",
    "    section = section[bos:] if bos >= 0 else section\n",
    "    section6, section6_txt = tidy_sentences(section)\n",
    "\n",
    "    sections = ['Economic Situation', 'Foreign Currency', 'Financial Markets',\n",
    "                'Monetary Policy', 'Participants’ Views', 'Government’s View']\n",
    "    section_texts = (section1, section2, section3, section4, section5, section6)\n",
    "\n",
    "\n",
    "    return sections, section_texts"
   ]
  },
  {
   "cell_type": "markdown",
   "metadata": {},
   "source": [
    "### b) 의사록 데이터프레임 읽어오기"
   ]
  },
  {
   "cell_type": "code",
   "execution_count": null,
   "metadata": {},
   "outputs": [],
   "source": [
    "import os\n",
    "from tika import parser\n",
    "import pandas as pd\n",
    "import csv\n",
    "mp_report = pd.read_csv(\"mp_report.csv\", header=None, encoding='utf-8')\n",
    "mp_report.columns = ['date','내용']\n",
    "mp_report['content']=None\n",
    "mp_report"
   ]
  },
  {
   "cell_type": "markdown",
   "metadata": {},
   "source": [
    "### c) 의사록 섹션 2,3 추출"
   ]
  },
  {
   "cell_type": "code",
   "execution_count": null,
   "metadata": {},
   "outputs": [],
   "source": [
    "from ekonlpy.tag import Mecab\n",
    "\n",
    "mecab = Mecab()\n",
    "content = []\n",
    "\n",
    "for i in range(200):\n",
    "    minutes = preprocess_minutes(mp_report['내용'][i])\n",
    "    sections = minutes[1][1]+minutes[1][2]\n",
    "    \n",
    "    if sections == []:\n",
    "        content.append([])\n",
    "    else:\n",
    "        content.append(sections)\n",
    "\n",
    "mp_report['content'] = content\n",
    "mp_report.drop('내용', axis=1, inplace=True)\n",
    "\n",
    "\n",
    "mp_report.to_csv(r'./mp_report_df.csv', index=False, encoding='utf-8') # 편의상 덮어쓰기"
   ]
  },
  {
   "cell_type": "markdown",
   "metadata": {},
   "source": [
    "##### 여기서 나온 결과는 콘텐트 번갈아가며 빈 리스트([])만 들어가있는 경우가 있음 코드 정리하며 합치기"
   ]
  },
  {
   "cell_type": "markdown",
   "metadata": {},
   "source": [
    "### d) 처리 결과 확인"
   ]
  },
  {
   "cell_type": "code",
   "execution_count": null,
   "metadata": {},
   "outputs": [],
   "source": [
    "import pandas as pd\n",
    "mp_report_df = pd.read_csv(\"mp_report_df.csv\", encoding='utf8')\n",
    "mp_report_df"
   ]
  },
  {
   "cell_type": "markdown",
   "metadata": {},
   "source": [
    "# II. 채권분석리포트"
   ]
  },
  {
   "cell_type": "code",
   "execution_count": null,
   "metadata": {},
   "outputs": [],
   "source": [
    "# option 1\n",
    "import requests\n",
    "from bs4 import BeautifulSoup\n",
    "import datetime\n",
    "from datetime import datetime\n",
    "!pip install openpyxl\n",
    "import openpyxl\n",
    "wb = openpyxl.Workbook()\n",
    "sheet = wb.active\n",
    "sheet.append([\"날짜\",\"제목\",\"본문\"])\n",
    "for i in range(1,101): # 마지막 페이지 입력하기 101\n",
    "    URL = 'https://finance.naver.com/research/debenture_list.nhn?keyword=&brokerCode=&searchType=writeDate&writeFromDate=2011-01-01&writeToDate=2021-12-31&x=0&y=0&page='+str(i)\n",
    "    response = requests.get(URL)\n",
    "    soup = BeautifulSoup(response.text, \"html.parser\")\n",
    "    list_minutes = soup.select('div[id=\"contentarea_left\"] div[class=\"box_type_m\"] tr')\n",
    "    for minutes in list_minutes:\n",
    "        try:\n",
    "            title=minutes.select('a')[0].text\n",
    "            sub_link = minutes.select('a')[1].attrs['href']\n",
    "            date = datetime.strptime('20'+ minutes.select('.date')[0].text, \"%Y.%m.%d\")\n",
    "            if str(sub_link).endswith('.pdf'):\n",
    "                print(date.strftime('%Y.%m.%d'))\n",
    "                print(title)\n",
    "                print(sub_link)\n",
    "                file_res = requests.get(sub_link)\n",
    "                sheet.append([ds.strftime('%Y.%m.%d'),title,sub_link])\n",
    "            else:\n",
    "                pass\n",
    "        except:\n",
    "            pass\n",
    "wb.save(\"bond_report.csv\")"
   ]
  },
  {
   "cell_type": "code",
   "execution_count": null,
   "metadata": {},
   "outputs": [],
   "source": [
    "# option 2 - x download pdf/ getting urls only\n",
    "import requests\n",
    "from bs4 import BeautifulSoup\n",
    "from datetime import datetime\n",
    "import csv\n",
    "f = open('bond_report.csv','w',newline='')\n",
    "wr = csv.writer(f)\n",
    "for i in range(1,102): # 마지막 페이지+1 입력\n",
    "    URL = 'https://finance.naver.com/research/debenture_list.nhn?keyword=&brokerCode=&searchType=writeDate&writeFromDate=2011-01-01&writeToDate=2021-12-31&x=0&y=0&page='+str(i)\n",
    "    response = requests.get(URL)\n",
    "    soup = BeautifulSoup(response.text, \"html.parser\")\n",
    "    list_minutes = soup.select('div[id=\"contentarea_left\"] div[class=\"box_type_m\"] tr')\n",
    "    for minutes in list_minutes:\n",
    "        try:\n",
    "            title=minutes.select('a')[0].text\n",
    "            sub_link = minutes.select('a')[1].attrs['href']\n",
    "            date = datetime.strptime('20'+ minutes.select('.date')[0].text, \"%Y.%m.%d\")\n",
    "            date_convert = date.strftime('%Y.%m.%d')\n",
    "            print(date_convert)\n",
    "            print(title)\n",
    "            print(sub_link)\n",
    "            wr.writerow([date_convert,title,sub_link])\n",
    "        except:\n",
    "            pass\n",
    "f.close()"
   ]
  },
  {
   "cell_type": "code",
   "execution_count": null,
   "metadata": {},
   "outputs": [],
   "source": [
    "#링크안 pdf text 긁어오기\n",
    "import os\n",
    "from tika import parser\n",
    "import pandas as pd\n",
    "import csv\n",
    "bond_report = pd.read_csv(\"bond_report.csv\", header=0)\n",
    "bond_report.columns = ['date','title','url']\n",
    "content = []\n",
    "for url in bond_report['url']:\n",
    "    try:\n",
    "        content.append(parser.from_file(url)['content'].replace('\\n', ''))\n",
    "    except:\n",
    "        content.append(\"NA\")\n",
    "        pass\n",
    "bond_report['content'] = content\n",
    "bond_report \n",
    "bond_report.to_csv(r'/Users/soojinkim/kdigital/mini_project_1/bond_report_df.csv')"
   ]
  },
  {
   "cell_type": "markdown",
   "metadata": {},
   "source": [
    "# III. 네이버 뉴스 기사\n",
    "네이버뉴스 사이트에서 \"금리\"키워드 검색 후 언론3사(이데일리, 연합인포맥스, 연합뉴스)선택"
   ]
  },
  {
   "cell_type": "code",
   "execution_count": null,
   "metadata": {},
   "outputs": [],
   "source": [
    "import openpyxl\n",
    "wb = openpyxl.Workbook()\n",
    "sheet = wb.active\n",
    "sheet.append([\"날짜\",\"기사명\",\"본문\"])\n",
    "#은이님 수정\n",
    "from bs4 import BeautifulSoup\n",
    "import requests\n",
    "import csv\n",
    "import re\n",
    "import datetime\n",
    "start_date = datetime.datetime(2013,1,1)\n",
    "end_date = datetime.datetime(2014,1,1)\n",
    "total_days = int((end_date-start_date).days)\n",
    "ds=start_date #시작일자\n",
    "errorcount=0\n",
    "for day in range(1,total_days+1):\n",
    "    page = 1\n",
    "    while True:\n",
    "        headers = {'user-agent':'Mozilla/5.0','cookie':'news_office_checked=1001,1018,2227'}\n",
    "        url = f\"https://search.naver.com/search.naver?&where=news&query=%EA%B8%88%EB%A6%AC&sm=tab_pge&sort=0&photo=0&field=0&reporter_article=&pd=3&ds={ds.strftime('%Y.%m.%d')}&de={ds.strftime('%Y.%m.%d')}&docid=&nso=so:r,p:from{ds.strftime('%Y%m%d')}to{ds.strftime('%Y%m%d')},a:all&mynews=1&start={page}&refresh_start=0\"\n",
    "        response = requests.get(url,headers=headers)\n",
    "        soup = BeautifulSoup(response.text,\"html.parser\")        \n",
    "        li_list = soup.select(\".list_news > li\")\n",
    "        for li in li_list:\n",
    "            try:\n",
    "#                print(ds.strftime('%Y.%m.%d'))\n",
    "                if li.select('div .news_area a[href]')[0]['href'] == 'http://www.einfomax.com':\n",
    "                    title = li.select('div .news_area a[title]')[0].text\n",
    "                    article_url = li.select('div .news_area a[title]')[0]['href']\n",
    "                    article_response = requests.get(article_url, headers=headers)\n",
    "                    article_soup = BeautifulSoup(article_response.text,\"html.parser\")\n",
    "                    article = article_soup.find(id = 'article-view-content-div')\n",
    "                    body = re.sub(r'[\\n\\t]','',article.text.strip())\n",
    "                else:\n",
    "                    title = li.select('div .news_area a[title]')[0].text\n",
    "                    article_url = li.select('div .news_area a[href]')[1]['href']\n",
    "                    article_response = requests.get(article_url, headers=headers)\n",
    "                    article_soup = BeautifulSoup(article_response.text,\"html.parser\")\n",
    "                    article = article_soup.find(id = 'articleBodyContents')\n",
    "                    body = article.text.strip()\n",
    "#                 print(title)\n",
    "#                 print(body)\n",
    "#                 print(\"\") \n",
    "                sheet.append([ds.strftime('%Y.%m.%d'),title,body])\n",
    "            except:\n",
    "                errorcount+=1\n",
    "        button=soup.select('.sc_page > a')[1]['aria-disabled']\n",
    "        page+=10\n",
    "        if button == 'true':\n",
    "            ds+=datetime.timedelta(1)\n",
    "            break\n",
    "wb.save(\"2020.csv\")"
   ]
  },
  {
   "cell_type": "markdown",
   "metadata": {},
   "source": [
    "# IV. 콜금리"
   ]
  },
  {
   "cell_type": "code",
   "execution_count": null,
   "metadata": {},
   "outputs": [],
   "source": [
    "import requests\n",
    "from bs4 import BeautifulSoup\n",
    "import re\n",
    "f = open(\"call.csv\", \"w\")\n",
    "f.write(\"날짜,콜금리,\\n\")\n",
    "for i in range(1,400): \n",
    "    url = 'https://finance.naver.com/marketindex/interestDailyQuote.nhn?marketindexCd=IRR_CALL&page='+str(i)\n",
    "    response = requests.get(url)\n",
    "    soup = BeautifulSoup(response.text, 'html.parser')\n",
    "    list_call = soup.select('div[class=\"section_exchange2\"] tbody > tr')\n",
    "    for call in list_call:\n",
    "        date=str(call.select('td')[0].text.strip())\n",
    "        call_index=str(call.select('td')[1].text.strip())\n",
    "        f.write(str(date)+\",\"+str(call_index)+'\\n')\n",
    "f.close()"
   ]
  },
  {
   "cell_type": "markdown",
   "metadata": {},
   "source": [
    "# V. 기준금리"
   ]
  },
  {
   "cell_type": "code",
   "execution_count": 1,
   "metadata": {},
   "outputs": [],
   "source": [
    "# 노가다 복붙 10년안에바뀐횟수 <20회"
   ]
  }
 ],
 "metadata": {
  "kernelspec": {
   "display_name": "study",
   "language": "python",
   "name": "study"
  },
  "language_info": {
   "codemirror_mode": {
    "name": "ipython",
    "version": 3
   },
   "file_extension": ".py",
   "mimetype": "text/x-python",
   "name": "python",
   "nbconvert_exporter": "python",
   "pygments_lexer": "ipython3",
   "version": "3.6.12"
  }
 },
 "nbformat": 4,
 "nbformat_minor": 4
}
