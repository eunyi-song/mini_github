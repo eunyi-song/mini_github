{
 "cells": [
  {
   "cell_type": "code",
   "execution_count": 1,
   "metadata": {},
   "outputs": [],
   "source": [
    "import pandas as pd\n",
    "import re\n",
    "import csv\n",
    "from ekonlpy.tag import Mecab\n",
    "from ekonlpy.sentiment import MPCK\n",
    "mpck = MPCK()"
   ]
  },
  {
   "cell_type": "markdown",
   "metadata": {},
   "source": [
    "# Merge 전 각 DataFrame 정리:\n",
    " date, title, content, ngrams 컬럼, 날짜 형식 통일"
   ]
  },
  {
   "cell_type": "markdown",
   "metadata": {},
   "source": [
    "## 금통위 의사록"
   ]
  },
  {
   "cell_type": "code",
   "execution_count": 5,
   "metadata": {
    "collapsed": true
   },
   "outputs": [
    {
     "data": {
      "text/html": [
       "<div>\n",
       "<style scoped>\n",
       "    .dataframe tbody tr th:only-of-type {\n",
       "        vertical-align: middle;\n",
       "    }\n",
       "\n",
       "    .dataframe tbody tr th {\n",
       "        vertical-align: top;\n",
       "    }\n",
       "\n",
       "    .dataframe thead th {\n",
       "        text-align: right;\n",
       "    }\n",
       "</style>\n",
       "<table border=\"1\" class=\"dataframe\">\n",
       "  <thead>\n",
       "    <tr style=\"text-align: right;\">\n",
       "      <th></th>\n",
       "      <th>date</th>\n",
       "      <th>title</th>\n",
       "      <th>content</th>\n",
       "      <th>ngrams</th>\n",
       "    </tr>\n",
       "  </thead>\n",
       "  <tbody>\n",
       "    <tr>\n",
       "      <th>0</th>\n",
       "      <td>2011-01-06</td>\n",
       "      <td>None</td>\n",
       "      <td>[]</td>\n",
       "      <td>[]</td>\n",
       "    </tr>\n",
       "    <tr>\n",
       "      <th>1</th>\n",
       "      <td>2011-01-13</td>\n",
       "      <td>None</td>\n",
       "      <td>(['일부 위원은 최근 외국인 채권투자자·｢ ｣ 금의 순유출로 외환수급사정이 악화되...</td>\n",
       "      <td>['외국인/NNG', '채권/NNG', '금/NNG', '순유출/NNG', '외환/...</td>\n",
       "    </tr>\n",
       "    <tr>\n",
       "      <th>2</th>\n",
       "      <td>2011-01-20</td>\n",
       "      <td>None</td>\n",
       "      <td>[]</td>\n",
       "      <td>[]</td>\n",
       "    </tr>\n",
       "    <tr>\n",
       "      <th>3</th>\n",
       "      <td>2011-02-11</td>\n",
       "      <td>None</td>\n",
       "      <td>(['일부 위원은 향후 미국의 통화정책 기조가·｢ ｣ 바뀔 경우 해외자금 유출입 흐...</td>\n",
       "      <td>['통화정책/NNG', '기조/NNG', '바뀌/VV', '해외/NNG', '자금/...</td>\n",
       "    </tr>\n",
       "    <tr>\n",
       "      <th>4</th>\n",
       "      <td>2011-02-24</td>\n",
       "      <td>None</td>\n",
       "      <td>[]</td>\n",
       "      <td>[]</td>\n",
       "    </tr>\n",
       "    <tr>\n",
       "      <th>...</th>\n",
       "      <td>...</td>\n",
       "      <td>...</td>\n",
       "      <td>...</td>\n",
       "      <td>...</td>\n",
       "    </tr>\n",
       "    <tr>\n",
       "      <th>195</th>\n",
       "      <td>2020-09-24</td>\n",
       "      <td>None</td>\n",
       "      <td>[]</td>\n",
       "      <td>[]</td>\n",
       "    </tr>\n",
       "    <tr>\n",
       "      <th>196</th>\n",
       "      <td>2020-10-14</td>\n",
       "      <td>None</td>\n",
       "      <td>(['일부 위원은 코로나19 사태에도 불구하고 중국 금융시장으로 외국인 증권투  자...</td>\n",
       "      <td>['코로나/NNG', '사태/NNG', '불구/NNG', '금융시장/NNG', '외...</td>\n",
       "    </tr>\n",
       "    <tr>\n",
       "      <th>197</th>\n",
       "      <td>2020-10-29</td>\n",
       "      <td>None</td>\n",
       "      <td>[]</td>\n",
       "      <td>[]</td>\n",
       "    </tr>\n",
       "    <tr>\n",
       "      <th>198</th>\n",
       "      <td>2020-11-26</td>\n",
       "      <td>None</td>\n",
       "      <td>(['일부 위원은 글로벌 투자은행들이 내년에도 달러화의 약세 추세가 대체로 이  어...</td>\n",
       "      <td>['글로벌/NNG', '투자은행/NNG', '달러/NNG', '약세/NNG', '추...</td>\n",
       "    </tr>\n",
       "    <tr>\n",
       "      <th>199</th>\n",
       "      <td>2020-12-10</td>\n",
       "      <td>None</td>\n",
       "      <td>[]</td>\n",
       "      <td>[]</td>\n",
       "    </tr>\n",
       "  </tbody>\n",
       "</table>\n",
       "<p>200 rows × 4 columns</p>\n",
       "</div>"
      ],
      "text/plain": [
       "           date title                                            content  \\\n",
       "0    2011-01-06  None                                                 []   \n",
       "1    2011-01-13  None  (['일부 위원은 최근 외국인 채권투자자·｢ ｣ 금의 순유출로 외환수급사정이 악화되...   \n",
       "2    2011-01-20  None                                                 []   \n",
       "3    2011-02-11  None  (['일부 위원은 향후 미국의 통화정책 기조가·｢ ｣ 바뀔 경우 해외자금 유출입 흐...   \n",
       "4    2011-02-24  None                                                 []   \n",
       "..          ...   ...                                                ...   \n",
       "195  2020-09-24  None                                                 []   \n",
       "196  2020-10-14  None  (['일부 위원은 코로나19 사태에도 불구하고 중국 금융시장으로 외국인 증권투  자...   \n",
       "197  2020-10-29  None                                                 []   \n",
       "198  2020-11-26  None  (['일부 위원은 글로벌 투자은행들이 내년에도 달러화의 약세 추세가 대체로 이  어...   \n",
       "199  2020-12-10  None                                                 []   \n",
       "\n",
       "                                                ngrams  \n",
       "0                                                   []  \n",
       "1    ['외국인/NNG', '채권/NNG', '금/NNG', '순유출/NNG', '외환/...  \n",
       "2                                                   []  \n",
       "3    ['통화정책/NNG', '기조/NNG', '바뀌/VV', '해외/NNG', '자금/...  \n",
       "4                                                   []  \n",
       "..                                                 ...  \n",
       "195                                                 []  \n",
       "196  ['코로나/NNG', '사태/NNG', '불구/NNG', '금융시장/NNG', '외...  \n",
       "197                                                 []  \n",
       "198  ['글로벌/NNG', '투자은행/NNG', '달러/NNG', '약세/NNG', '추...  \n",
       "199                                                 []  \n",
       "\n",
       "[200 rows x 4 columns]"
      ]
     },
     "execution_count": 5,
     "metadata": {},
     "output_type": "execute_result"
    }
   ],
   "source": [
    "#mp_report_ngram.csv 데이터프레임 정리:\n",
    "mp=pd.read_csv(\"mp_report_ngram.csv\", header=0, encoding='utf-8')\n",
    "#컬럼명 바꾸기\n",
    "mp = mp.rename(columns={'ngram': 'ngrams'})\n",
    "#추가된 Unnamed index 컬럼 제거\n",
    "mp.drop(mp.filter(regex=\"Unnamed: 0\"),axis=1, inplace=True)\n",
    "mp.drop(mp.filter(regex=\"Unnamed: 0.1\"),axis=1, inplace=True)\n",
    "# 금통위의사록 데이터프레임은 title 컬럼 없으므로 추가해줌\n",
    "mp.insert(1,'title',None)\n",
    "# 날짜 형식 yyyy.mm.dd로 변환\n",
    "for i in range(len(mp)):\n",
    "    mp['date'][i]=re.sub(\"-\",\".\",mp['date'][i])\n",
    "        \n",
    "mp"
   ]
  },
  {
   "cell_type": "markdown",
   "metadata": {},
   "source": [
    "## 채권리포트"
   ]
  },
  {
   "cell_type": "code",
   "execution_count": null,
   "metadata": {},
   "outputs": [],
   "source": [
    "bond_report = pd.read_csv(\"bond_report_ultimate.csv\", encoding = \"utf-8\")\n",
    "#url 컬럼 제거\n",
    "bond_report.drop(bond_report.filter(regex=\"url\"),axis=1, inplace=True)\n",
    "#tokens_ngrams 컬럼명 ngrams로 바꾸기\n",
    "bond_report = bond_report.rename(columns={'tokens_ngrams': 'ngrams'})\n",
    "bond_report"
   ]
  },
  {
   "cell_type": "markdown",
   "metadata": {},
   "source": [
    "## 네이버 뉴스기사"
   ]
  },
  {
   "cell_type": "code",
   "execution_count": null,
   "metadata": {},
   "outputs": [],
   "source": [
    "# 모든 뉴스기사 csv파일 합친 새 DataFrame 생성\n",
    "DF_list = []\n",
    "# ngram화 된 2011-2019년도 csv파일은 파일명이 규칙적이므로 for문 이용\n",
    "for i in range(9):\n",
    "    a = pd.read_csv(f'naver_ngram_201{i+1}.csv')\n",
    "    DF_list.append(a)\n",
    "DF_list.append(pd.read_csv('naver_ngram_2020.csv'))\n",
    "#concat으로 합치기\n",
    "Merged_na = pd.concat(DF_list, ignore_index=True)\n",
    "\n",
    "# 컬럼명 한글이므로 영어로 바꿈\n",
    "Merged_na = Merged_na.rename(columns={'날짜': 'date'})\n",
    "Merged_na = Merged_na.rename(columns={'기사명': 'title'})\n",
    "Merged_na = Merged_na.rename(columns={'본문': 'content'})\n",
    "Merged_na = Merged_na.rename(columns={'tokens_ngrams': 'ngrams'})\n"
   ]
  },
  {
   "cell_type": "code",
   "execution_count": null,
   "metadata": {},
   "outputs": [],
   "source": [
    "#네이버 뉴스 데이터프레임과 채권리포트 데이터프레임, mp 데이터프레임 merge\n",
    "ngram_join = pd.concat([Merged_na, bond_report,mp], ignore_index=True)\n",
    "ngram_join"
   ]
  },
  {
   "cell_type": "markdown",
   "metadata": {},
   "source": [
    "## 콜금리"
   ]
  },
  {
   "cell_type": "code",
   "execution_count": null,
   "metadata": {},
   "outputs": [],
   "source": [
    "call_index = pd.read_csv(\"call_index_.csv\", encoding = \"utf-8\")\n",
    "# 콜금리 데이터프레임에서 date,updown데이터만 가져오기\n",
    "call_updown = pd.DataFrame(call_index, columns=[\"date\",\"updown\"])"
   ]
  },
  {
   "cell_type": "code",
   "execution_count": null,
   "metadata": {},
   "outputs": [],
   "source": [
    "# 네이버뉴스,채권리포트 데이터프레임(ngram_join)과 콜금리 데이터프레임(call_updown) merge\n",
    "ngram_call_join = pd.merge(call_updown,ngram_join, on='date',how='left')"
   ]
  },
  {
   "cell_type": "code",
   "execution_count": null,
   "metadata": {},
   "outputs": [],
   "source": [
    "# 기존 날짜는 datetime type이 아니라 str형식이라 정렬 불가하므로 이 프로세스를 거쳐야함\n",
    "# 뉴스,채권리포트,콜금리 merge된 데이터 프레임 내 datetime 타입으로 변환 및 정렬\n",
    "import datetime\n",
    "\n",
    "for i in range(len(ngram_call_join)):\n",
    "    ngram_call_join['date'][i] = datetime.datetime.strptime(ngram_call_join['date'][i],'%Y.%m.%d')\n",
    "\n",
    "ngram_call_join.sort_values(by=[\"date\"], ascending=True)\n",
    "\n",
    "# 2020년 이후의 콜금리 데이터 제거\n",
    "ngram_call_join.drop([202051,202052],inplace=True)\n",
    "ngram_call_join\n"
   ]
  },
  {
   "cell_type": "code",
   "execution_count": null,
   "metadata": {},
   "outputs": [],
   "source": []
  }
 ],
 "metadata": {
  "kernelspec": {
   "display_name": "study",
   "language": "python",
   "name": "study"
  },
  "language_info": {
   "codemirror_mode": {
    "name": "ipython",
    "version": 3
   },
   "file_extension": ".py",
   "mimetype": "text/x-python",
   "name": "python",
   "nbconvert_exporter": "python",
   "pygments_lexer": "ipython3",
   "version": "3.6.12"
  }
 },
 "nbformat": 4,
 "nbformat_minor": 4
}
